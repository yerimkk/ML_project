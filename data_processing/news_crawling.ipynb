{
 "cells": [
  {
   "cell_type": "markdown",
   "metadata": {},
   "source": [
    "## KOMIS 일일자원뉴스"
   ]
  },
  {
   "cell_type": "code",
   "execution_count": 1,
   "metadata": {},
   "outputs": [],
   "source": [
    "from selenium import webdriver\n",
    "import time\n",
    "from selenium.webdriver.common.by import By\n",
    "from selenium.webdriver.support.ui import WebDriverWait\n",
    "from selenium.webdriver.support import expected_conditions as EC\n",
    "from bs4 import BeautifulSoup\n",
    "import pandas as pd\n"
   ]
  },
  {
   "cell_type": "code",
   "execution_count": 2,
   "metadata": {},
   "outputs": [],
   "source": [
    "# 검색기간 입력 함수\n",
    "def select_date(start, end):\n",
    "    # 니켈 선택\n",
    "    element = driver.find_element(By.CSS_SELECTOR, '#search01 > ul > li.check_area > div > ol > li:nth-child(2) > a')\n",
    "    element.click()\n",
    "    time.sleep(2)\n",
    "\n",
    "    # 검색기간 입력\n",
    "\n",
    "    element = driver.find_element(By.CSS_SELECTOR, '#from_ymd')\n",
    "    element.click()\n",
    "\n",
    "    driver.find_element(By.CSS_SELECTOR,\"#from_ymd\").send_keys(start)\n",
    "    time.sleep(1)\n",
    "\n",
    "    element = driver.find_element(By.CSS_SELECTOR, '#to_ymd')\n",
    "    element.click()\n",
    "\n",
    "    driver.find_element(By.CSS_SELECTOR,\"#to_ymd\").send_keys(end)\n",
    "    time.sleep(1)\n",
    "\n",
    "    element = driver.find_element(By.CSS_SELECTOR, '#search01 > ul > li:nth-child(3) > input[type=image]:nth-child(4)')\n",
    "    element.click()\n"
   ]
  },
  {
   "cell_type": "code",
   "execution_count": 3,
   "metadata": {},
   "outputs": [],
   "source": [
    "# 데이터 수집 함수\n",
    "def get_data_from_page():\n",
    "    soup = BeautifulSoup(driver.page_source, 'html.parser')\n",
    "    articles = soup.select('.bbs_list02 li')\n",
    "    data = []\n",
    "\n",
    "    for article in articles:\n",
    "        title = article.select_one('.tit strong').text\n",
    "        date = article.select_one('.date').text\n",
    "        body = article.select_one('.body p').text.strip()\n",
    "        \n",
    "\n",
    "        data.append({\n",
    "            \"date\": date,\n",
    "            \"title\": title,\n",
    "            \"body\": body,\n",
    "        })\n",
    "      \n",
    "\n",
    "    return data"
   ]
  },
  {
   "cell_type": "code",
   "execution_count": 4,
   "metadata": {},
   "outputs": [],
   "source": [
    "# 페이지 수를 가져오는 함수\n",
    "def get_total_pages():\n",
    "    try:\n",
    "       \n",
    "        page_element = driver.find_element(By.CSS_SELECTOR, \".paging span.number a:last-child\")\n",
    "        total_pages = int(page_element.text)\n",
    "    except Exception as e:\n",
    "        print(f\"Failed to get total pages: {e}\")\n",
    "        return 1  # 기본값으로 1 페이지로 설정\n",
    "    return total_pages"
   ]
  },
  {
   "cell_type": "code",
   "execution_count": 5,
   "metadata": {},
   "outputs": [],
   "source": [
    "# 페이지 이동 함수\n",
    "def next_page(page_number):\n",
    "    try:\n",
    "        next_button = driver.find_element(By.XPATH, f'//a[@title=\"{page_number} 페이지로 이동\"]')\n",
    "\n",
    "        WebDriverWait(driver, 10).until(EC.element_to_be_clickable((By.XPATH, f'//a[@title=\"{page_number} 페이지로 이동\"]')))\n",
    "\n",
    "        next_button.click()\n",
    "        time.sleep(2)  \n",
    "        \n",
    "    except Exception as e:\n",
    "        print(f\"Failed to move to page {page_number}: {e}\")\n",
    "        return False\n",
    "    return True"
   ]
  },
  {
   "cell_type": "code",
   "execution_count": 6,
   "metadata": {},
   "outputs": [],
   "source": [
    "# '다음' 버튼 클릭 함수\n",
    "def click_next_set():\n",
    "    try:\n",
    "        next_set_button = driver.find_element(By.XPATH, '//*[@id=\"dForm\"]/div[3]/a[1]/img')\n",
    "        \n",
    "        # 요소가 클릭 가능할 때까지 기다립니다.\n",
    "        WebDriverWait(driver, 10).until(EC.element_to_be_clickable((By.XPATH, '//*[@id=\"dForm\"]/div[3]/a[1]/img')))\n",
    "        # 스크롤하여 요소를 가시화합니다.\n",
    "        driver.execute_script(\"arguments[0].scrollIntoView();\", next_set_button)\n",
    "        next_set_button.click()\n",
    "        time.sleep(3)  \n",
    "    except Exception as e:\n",
    "        print(f\"Failed to click next set: {e}\")\n",
    "        return False\n",
    "    return True"
   ]
  },
  {
   "cell_type": "code",
   "execution_count": 34,
   "metadata": {},
   "outputs": [],
   "source": [
    "def click_next_set2():\n",
    "    try:\n",
    "        next_set_button = driver.find_element(By.XPATH, '//*[@id=\"dForm\"]/div[3]/a[3]/img')\n",
    "        \n",
    "        # 요소가 클릭 가능할 때까지 기다립니다.\n",
    "        WebDriverWait(driver, 10).until(EC.element_to_be_clickable((By.XPATH, '//*[@id=\"dForm\"]/div[3]/a[3]/img')))\n",
    "        # 스크롤하여 요소를 가시화합니다.\n",
    "        driver.execute_script(\"arguments[0].scrollIntoView();\", next_set_button)\n",
    "        next_set_button.click()\n",
    "        time.sleep(3)  \n",
    "    except Exception as e:\n",
    "        print(f\"Failed to click next set: {e}\")\n",
    "        return False\n",
    "    return True"
   ]
  },
  {
   "cell_type": "code",
   "execution_count": 35,
   "metadata": {},
   "outputs": [],
   "source": [
    "def click_next_set3(xpath):\n",
    "    try:\n",
    "        next_set_button = driver.find_element(By.XPATH, xpath)\n",
    "        \n",
    "        # 요소가 클릭 가능할 때까지 기다립니다.\n",
    "        WebDriverWait(driver, 10).until(EC.element_to_be_clickable((By.XPATH, xpath)))\n",
    "        # 스크롤하여 요소를 가시화합니다.\n",
    "        driver.execute_script(\"arguments[0].scrollIntoView();\", next_set_button)\n",
    "        next_set_button.click()\n",
    "        time.sleep(3)  \n",
    "    except Exception as e:\n",
    "        print(f\"Failed to click next set: {e}\")\n",
    "        return False\n",
    "    return True"
   ]
  },
  {
   "cell_type": "code",
   "execution_count": 8,
   "metadata": {},
   "outputs": [],
   "source": [
    "driver = webdriver.Chrome()\n",
    "driver.get(\"https://www.komis.or.kr/komis/trend/dailynews/resources/trendList.do?se_cd=130\")"
   ]
  },
  {
   "cell_type": "markdown",
   "metadata": {},
   "source": [
    "## 2017"
   ]
  },
  {
   "cell_type": "code",
   "execution_count": 9,
   "metadata": {},
   "outputs": [],
   "source": [
    "# 2017년 기사 스크랩\n",
    "select_date('20170101','20171231')"
   ]
  },
  {
   "cell_type": "code",
   "execution_count": 10,
   "metadata": {},
   "outputs": [],
   "source": [
    "# 총 페이지 수\n",
    "total_pages = get_total_pages()"
   ]
  },
  {
   "cell_type": "code",
   "execution_count": 11,
   "metadata": {},
   "outputs": [
    {
     "data": {
      "text/plain": [
       "10"
      ]
     },
     "execution_count": 11,
     "metadata": {},
     "output_type": "execute_result"
    }
   ],
   "source": [
    "total_pages"
   ]
  },
  {
   "cell_type": "code",
   "execution_count": 12,
   "metadata": {},
   "outputs": [],
   "source": [
    "# 총 페이지 수\n",
    "total_pages = get_total_pages()\n",
    "\n",
    "all_data = []\n",
    "# 첫 페이지 데이터 수집\n",
    "all_data.extend(get_data_from_page())"
   ]
  },
  {
   "cell_type": "code",
   "execution_count": 13,
   "metadata": {},
   "outputs": [
    {
     "data": {
      "text/plain": [
       "[{'date': '2017-12-26',\n",
       "  'title': 'LME 니켈 가격, 톤당 1만2천불 회복',\n",
       "  'body': '12월 21일 LME 니켈 가격이 톤당 1만2천불을 회복하였음. 현물 가격이 11월 24일 이후 4주 만에 12,000불을 다시 기록한 것인데, 미국 달러화 가치가 떨어지고 위험 자산에 대한 투자 분위기가 회복된 것에 기인하는 것으로 분석됨. 미 트럼프 대통령의 감세안이 의회를 통과한 것도 크게 작용한 것으로 간주되는데, 22일에도 1만2천불을 넘어선 니켈 가격의 추가 상승 모멘텀은 충분한 것으로 평가됨. (Tex Report 12.22)'},\n",
       " {'date': '2017-12-22',\n",
       "  'title': '필리핀, 캐나다 지속가능 개발 벤치마킹',\n",
       "  'body': '필리핀 광업협회 (The Chamber of Mines of the Philippines)는 캐나다 광산 기술을 벤치마크하기로 결정하였다고 발표함. 캐나다 광업협회 (Mining Association of Canada)가 만든 지속 가능한 광산 개발 원칙 (‘Towards Sustainable Mining’, TSM)을 채택한다는 것인데 광미 처리, 지역 사회 봉사, 안전 및 보건, 생태계 보호, 리스크 관리, 에너지 이용, 탄소배출 억제 등을 캐나다 식으로 수행하기로 함. 또한 이런 원칙을 수행하는데 있어 3년마다 대중이 피드백하여 평가하게 함으로써 투명성을 높이기로 하였다고 밝힘. 필리핀은 세계 최대 니켈 광석 수출국인데, 이로써 Finland, Argentina, Botswana에 이어 TSM을 적용하는 네 번째 국가가 되었음. (Mining.com 12.20)'},\n",
       " {'date': '2017-12-18',\n",
       "  'title': 'Sherritt, Ambatovy 지분 축소 완료',\n",
       "  'body': '캐나다 Sherritt International사는 마다가스카르 Ambatovy 니켈·코발트 광산 지분을 기존 40%에서 12%로 줄이는 작업을 모두 완료하였다고 12월 13일 발표함. 기존의 합작 파트너 중에서 일본 Sumitomo사는 32.5%에서 47.7%로 지분을 늘렸으며, Korea Resources Corporation사는 27.5%에서 40.3%로 올리게 되었다고 밝힘. 지분이 가장 적은 쪽으로 축소되었음에도 불구하고 광산 운영은 2024년까지 계속해서 Sherritt사가 맡기로 하였다고 설명함. (Tex Report 12.15)'},\n",
       " {'date': '2017-12-08',\n",
       "  'title': 'LME 니켈 가격, 톤당 1만1천불 아래로 하락',\n",
       "  'body': 'LME 니켈 가격이 계속 하락하여 톤당 1만1천불 아래로 미끄러짐. 12월 5일 LME 거래소에서 니켈 현물 가격은 톤당 11,075불을 기록하였고 3개월 선물은 톤당 11,125불을 기록함으로써 각각 전날보다 2.3% 하락하였음. 그 외에도 오후 세션에서는 하락세가 심화되면서 현물 및 3개월 선물 모두 톤당 1만1천불 밑으로 가격이 더 떨어짐. 전날에 이어 이틀 연속 하락세가 계속되었는데 매도 세력이 매입 세력을 능가하고 있는데다가 미국의 세법 개정안이 긍정적으로 평가되면서 미 달러 가치가 상승하고 있는 때문으로 분석됨. 한편 하루 뒤인 12월 6일 상하이 거래소 (SHFE)에서는 약세로 출발한 뒤 톤당 10,800불을 중심으로 등락을 거듭하고 있음. (Tex Report 12.7)'}]"
      ]
     },
     "execution_count": 13,
     "metadata": {},
     "output_type": "execute_result"
    }
   ],
   "source": [
    "all_data"
   ]
  },
  {
   "cell_type": "code",
   "execution_count": 14,
   "metadata": {},
   "outputs": [
    {
     "data": {
      "text/plain": [
       "True"
      ]
     },
     "execution_count": 14,
     "metadata": {},
     "output_type": "execute_result"
    }
   ],
   "source": [
    "# 페이지 이동 및 데이터 수집\n",
    "for page_number in range(2, total_pages + 1):\n",
    "    if not next_page(page_number):\n",
    "        break\n",
    "\n",
    "    # 데이터 수집\n",
    "    all_data.extend(get_data_from_page())\n",
    "\n",
    "# 다음장(11-20)\n",
    "click_next_set()\n"
   ]
  },
  {
   "cell_type": "code",
   "execution_count": 18,
   "metadata": {},
   "outputs": [],
   "source": [
    "# 페이지 이동 및 데이터 수집\n",
    "for page_number in range(11, 21):\n",
    "    if not next_page(page_number):\n",
    "        break\n",
    "\n",
    "    # 데이터 수집\n",
    "    all_data.extend(get_data_from_page())"
   ]
  },
  {
   "cell_type": "code",
   "execution_count": 23,
   "metadata": {},
   "outputs": [
    {
     "data": {
      "text/plain": [
       "True"
      ]
     },
     "execution_count": 23,
     "metadata": {},
     "output_type": "execute_result"
    }
   ],
   "source": [
    "# 다음장(21-30)\n",
    "click_next_set2()"
   ]
  },
  {
   "cell_type": "code",
   "execution_count": 24,
   "metadata": {},
   "outputs": [],
   "source": [
    "# 페이지 이동 및 데이터 수집\n",
    "for page_number in range(21, 31):\n",
    "    if not next_page(page_number):\n",
    "        break\n",
    "\n",
    "    # 데이터 수집\n",
    "    all_data.extend(get_data_from_page())"
   ]
  },
  {
   "cell_type": "code",
   "execution_count": 31,
   "metadata": {},
   "outputs": [],
   "source": [
    "driver.quit()"
   ]
  },
  {
   "cell_type": "code",
   "execution_count": 25,
   "metadata": {},
   "outputs": [],
   "source": [
    "# 데이터프레임 생성\n",
    "df = pd.DataFrame(all_data)"
   ]
  },
  {
   "cell_type": "code",
   "execution_count": 26,
   "metadata": {},
   "outputs": [
    {
     "data": {
      "text/html": [
       "<div>\n",
       "<style scoped>\n",
       "    .dataframe tbody tr th:only-of-type {\n",
       "        vertical-align: middle;\n",
       "    }\n",
       "\n",
       "    .dataframe tbody tr th {\n",
       "        vertical-align: top;\n",
       "    }\n",
       "\n",
       "    .dataframe thead th {\n",
       "        text-align: right;\n",
       "    }\n",
       "</style>\n",
       "<table border=\"1\" class=\"dataframe\">\n",
       "  <thead>\n",
       "    <tr style=\"text-align: right;\">\n",
       "      <th></th>\n",
       "      <th>date</th>\n",
       "      <th>title</th>\n",
       "      <th>body</th>\n",
       "    </tr>\n",
       "  </thead>\n",
       "  <tbody>\n",
       "    <tr>\n",
       "      <th>0</th>\n",
       "      <td>2017-12-26</td>\n",
       "      <td>LME 니켈 가격, 톤당 1만2천불 회복</td>\n",
       "      <td>12월 21일 LME 니켈 가격이 톤당 1만2천불을 회복하였음. 현물 가격이 11월...</td>\n",
       "    </tr>\n",
       "    <tr>\n",
       "      <th>1</th>\n",
       "      <td>2017-12-22</td>\n",
       "      <td>필리핀, 캐나다 지속가능 개발 벤치마킹</td>\n",
       "      <td>필리핀 광업협회 (The Chamber of Mines of the Philippi...</td>\n",
       "    </tr>\n",
       "    <tr>\n",
       "      <th>2</th>\n",
       "      <td>2017-12-18</td>\n",
       "      <td>Sherritt, Ambatovy 지분 축소 완료</td>\n",
       "      <td>캐나다 Sherritt International사는 마다가스카르 Ambatovy 니...</td>\n",
       "    </tr>\n",
       "    <tr>\n",
       "      <th>3</th>\n",
       "      <td>2017-12-08</td>\n",
       "      <td>LME 니켈 가격, 톤당 1만1천불 아래로 하락</td>\n",
       "      <td>LME 니켈 가격이 계속 하락하여 톤당 1만1천불 아래로 미끄러짐. 12월 5일 L...</td>\n",
       "    </tr>\n",
       "    <tr>\n",
       "      <th>4</th>\n",
       "      <td>2017-12-07</td>\n",
       "      <td>SHFE 니켈 가격, 톤당 11,000불로 하락</td>\n",
       "      <td>상하이 선물 거래소 (Shanghai Futures Exchange, SHFE)에서...</td>\n",
       "    </tr>\n",
       "    <tr>\n",
       "      <th>...</th>\n",
       "      <td>...</td>\n",
       "      <td>...</td>\n",
       "      <td>...</td>\n",
       "    </tr>\n",
       "    <tr>\n",
       "      <th>113</th>\n",
       "      <td>2017-01-17</td>\n",
       "      <td>인니 니켈광 수출 재개, 호주 업체 주가 폭락</td>\n",
       "      <td>인도네시아가 2014년부터 금지한 니켈 원광석의 수출을 다시 재개한다고 1월 13일...</td>\n",
       "    </tr>\n",
       "    <tr>\n",
       "      <th>114</th>\n",
       "      <td>2017-01-16</td>\n",
       "      <td>인니 원광 수출 재개, 니켈 가격 폭락</td>\n",
       "      <td>인도네시아가 니켈 원광석 수출이 가능하도록 법규를 개정할 것이라고 로이터 통신이 1...</td>\n",
       "    </tr>\n",
       "    <tr>\n",
       "      <th>115</th>\n",
       "      <td>2017-01-10</td>\n",
       "      <td>인니 원광 수출 재개, 니켈 가격 압박</td>\n",
       "      <td>인도네시아가 곧 니켈 원광석 수출 금지 조치의 전면적 시행을 유예함으로써 니켈 가격...</td>\n",
       "    </tr>\n",
       "    <tr>\n",
       "      <th>116</th>\n",
       "      <td>2017-01-06</td>\n",
       "      <td>LME 니켈 평균 가격, 12월에 1% 하락</td>\n",
       "      <td>LME 시장에서 2016년 12월 니켈 평균 가격이 현물 톤당 11,013.25불,...</td>\n",
       "    </tr>\n",
       "    <tr>\n",
       "      <th>117</th>\n",
       "      <td>2017-01-05</td>\n",
       "      <td>인도네시아, 니켈 원광 수출 금지 주목</td>\n",
       "      <td>금년 1월 12일부터 전면적으로 시행하게 되어 있는 인도네시아의 니켈 등 원광 수출...</td>\n",
       "    </tr>\n",
       "  </tbody>\n",
       "</table>\n",
       "<p>118 rows × 3 columns</p>\n",
       "</div>"
      ],
      "text/plain": [
       "           date                        title  \\\n",
       "0    2017-12-26       LME 니켈 가격, 톤당 1만2천불 회복   \n",
       "1    2017-12-22        필리핀, 캐나다 지속가능 개발 벤치마킹   \n",
       "2    2017-12-18  Sherritt, Ambatovy 지분 축소 완료   \n",
       "3    2017-12-08   LME 니켈 가격, 톤당 1만1천불 아래로 하락   \n",
       "4    2017-12-07   SHFE 니켈 가격, 톤당 11,000불로 하락   \n",
       "..          ...                          ...   \n",
       "113  2017-01-17    인니 니켈광 수출 재개, 호주 업체 주가 폭락   \n",
       "114  2017-01-16        인니 원광 수출 재개, 니켈 가격 폭락   \n",
       "115  2017-01-10        인니 원광 수출 재개, 니켈 가격 압박   \n",
       "116  2017-01-06    LME 니켈 평균 가격, 12월에 1% 하락    \n",
       "117  2017-01-05        인도네시아, 니켈 원광 수출 금지 주목   \n",
       "\n",
       "                                                  body  \n",
       "0    12월 21일 LME 니켈 가격이 톤당 1만2천불을 회복하였음. 현물 가격이 11월...  \n",
       "1    필리핀 광업협회 (The Chamber of Mines of the Philippi...  \n",
       "2    캐나다 Sherritt International사는 마다가스카르 Ambatovy 니...  \n",
       "3    LME 니켈 가격이 계속 하락하여 톤당 1만1천불 아래로 미끄러짐. 12월 5일 L...  \n",
       "4    상하이 선물 거래소 (Shanghai Futures Exchange, SHFE)에서...  \n",
       "..                                                 ...  \n",
       "113  인도네시아가 2014년부터 금지한 니켈 원광석의 수출을 다시 재개한다고 1월 13일...  \n",
       "114  인도네시아가 니켈 원광석 수출이 가능하도록 법규를 개정할 것이라고 로이터 통신이 1...  \n",
       "115  인도네시아가 곧 니켈 원광석 수출 금지 조치의 전면적 시행을 유예함으로써 니켈 가격...  \n",
       "116  LME 시장에서 2016년 12월 니켈 평균 가격이 현물 톤당 11,013.25불,...  \n",
       "117  금년 1월 12일부터 전면적으로 시행하게 되어 있는 인도네시아의 니켈 등 원광 수출...  \n",
       "\n",
       "[118 rows x 3 columns]"
      ]
     },
     "execution_count": 26,
     "metadata": {},
     "output_type": "execute_result"
    }
   ],
   "source": [
    "df"
   ]
  },
  {
   "cell_type": "code",
   "execution_count": 29,
   "metadata": {},
   "outputs": [],
   "source": [
    "df.to_excel('2017_news.xlsx', index=False)"
   ]
  },
  {
   "cell_type": "markdown",
   "metadata": {},
   "source": [
    "## 2018-2019"
   ]
  },
  {
   "cell_type": "code",
   "execution_count": 36,
   "metadata": {},
   "outputs": [],
   "source": [
    "driver = webdriver.Chrome()\n",
    "driver.get(\"https://www.komis.or.kr/komis/trend/dailynews/resources/trendList.do?se_cd=130\")"
   ]
  },
  {
   "cell_type": "code",
   "execution_count": 37,
   "metadata": {},
   "outputs": [],
   "source": [
    "# 2018-2019년 기사 스크랩\n",
    "select_date('20180101','20191231')"
   ]
  },
  {
   "cell_type": "code",
   "execution_count": 38,
   "metadata": {},
   "outputs": [
    {
     "data": {
      "text/plain": [
       "True"
      ]
     },
     "execution_count": 38,
     "metadata": {},
     "output_type": "execute_result"
    }
   ],
   "source": [
    "all_data = []\n",
    "# 첫 페이지 데이터 수집\n",
    "all_data.extend(get_data_from_page())\n",
    "\n",
    "# 다음장(11-20)\n",
    "click_next_set()"
   ]
  },
  {
   "cell_type": "code",
   "execution_count": 39,
   "metadata": {},
   "outputs": [],
   "source": [
    "# 페이지 이동 및 데이터 수집\n",
    "for page_number in range(11, 21):\n",
    "    if not next_page(page_number):\n",
    "        break\n",
    "\n",
    "    # 데이터 수집\n",
    "    all_data.extend(get_data_from_page())"
   ]
  },
  {
   "cell_type": "code",
   "execution_count": 40,
   "metadata": {},
   "outputs": [
    {
     "data": {
      "text/plain": [
       "True"
      ]
     },
     "execution_count": 40,
     "metadata": {},
     "output_type": "execute_result"
    }
   ],
   "source": [
    "# 다음장(21-30)\n",
    "click_next_set2()"
   ]
  },
  {
   "cell_type": "code",
   "execution_count": 41,
   "metadata": {},
   "outputs": [],
   "source": [
    "# 페이지 이동 및 데이터 수집\n",
    "for page_number in range(21, 31):\n",
    "    if not next_page(page_number):\n",
    "        break\n",
    "\n",
    "    # 데이터 수집\n",
    "    all_data.extend(get_data_from_page())"
   ]
  },
  {
   "cell_type": "code",
   "execution_count": 42,
   "metadata": {},
   "outputs": [
    {
     "data": {
      "text/plain": [
       "True"
      ]
     },
     "execution_count": 42,
     "metadata": {},
     "output_type": "execute_result"
    }
   ],
   "source": [
    "# 다음장(31-)\n",
    "click_next_set2()"
   ]
  },
  {
   "cell_type": "code",
   "execution_count": 43,
   "metadata": {},
   "outputs": [],
   "source": [
    "# 페이지 이동 및 데이터 수집\n",
    "for page_number in range(31, 34):\n",
    "    if not next_page(page_number):\n",
    "        break\n",
    "\n",
    "    # 데이터 수집\n",
    "    all_data.extend(get_data_from_page())"
   ]
  },
  {
   "cell_type": "code",
   "execution_count": 44,
   "metadata": {},
   "outputs": [],
   "source": [
    "# 드라이버 종료\n",
    "driver.quit()"
   ]
  },
  {
   "cell_type": "code",
   "execution_count": 45,
   "metadata": {},
   "outputs": [],
   "source": [
    "# 데이터프레임 생성\n",
    "df = pd.DataFrame(all_data)"
   ]
  },
  {
   "cell_type": "code",
   "execution_count": 46,
   "metadata": {},
   "outputs": [
    {
     "data": {
      "text/html": [
       "<div>\n",
       "<style scoped>\n",
       "    .dataframe tbody tr th:only-of-type {\n",
       "        vertical-align: middle;\n",
       "    }\n",
       "\n",
       "    .dataframe tbody tr th {\n",
       "        vertical-align: top;\n",
       "    }\n",
       "\n",
       "    .dataframe thead th {\n",
       "        text-align: right;\n",
       "    }\n",
       "</style>\n",
       "<table border=\"1\" class=\"dataframe\">\n",
       "  <thead>\n",
       "    <tr style=\"text-align: right;\">\n",
       "      <th></th>\n",
       "      <th>date</th>\n",
       "      <th>title</th>\n",
       "      <th>body</th>\n",
       "    </tr>\n",
       "  </thead>\n",
       "  <tbody>\n",
       "    <tr>\n",
       "      <th>0</th>\n",
       "      <td>2019-12-23</td>\n",
       "      <td>필리핀, 1~9월 니켈광 생산량 3% 감소</td>\n",
       "      <td>필리핀 광산지질국(Mines Geosciences Bureau)는 1~9월 니켈광 ...</td>\n",
       "    </tr>\n",
       "    <tr>\n",
       "      <th>1</th>\n",
       "      <td>2019-11-20</td>\n",
       "      <td>Nornickel사, 2020년 이후 니켈 부족 전망</td>\n",
       "      <td>세계 2위 니켈 생산업체 Nornickel사는 생산량 감소 및 수요 증가로 2020...</td>\n",
       "    </tr>\n",
       "    <tr>\n",
       "      <th>2</th>\n",
       "      <td>2019-11-15</td>\n",
       "      <td>CNIA, 중국 2019년 니켈 생산량 15% 증가 전망</td>\n",
       "      <td>중국비철금속협회(China Nonferrous Metals Industry Asso...</td>\n",
       "    </tr>\n",
       "    <tr>\n",
       "      <th>3</th>\n",
       "      <td>2019-11-14</td>\n",
       "      <td>Talon사, 통합 니켈 광산 개발 계획</td>\n",
       "      <td>Talon Metals사는 최근 미네소타주에 소재한 Tamarack 프로젝트에서\\n...</td>\n",
       "    </tr>\n",
       "    <tr>\n",
       "      <th>4</th>\n",
       "      <td>2019-02-21</td>\n",
       "      <td>PNG Ramu 니켈 광산, 광업권 연장 안개 속</td>\n",
       "      <td>파푸아뉴기니 (PNG) 총리는 Madang주에 소재하는 Ramu 니켈 광산의 광업권...</td>\n",
       "    </tr>\n",
       "    <tr>\n",
       "      <th>...</th>\n",
       "      <td>...</td>\n",
       "      <td>...</td>\n",
       "      <td>...</td>\n",
       "    </tr>\n",
       "    <tr>\n",
       "      <th>90</th>\n",
       "      <td>2018-01-31</td>\n",
       "      <td>First Quantum, 작년 니켈 생산 24% 감소</td>\n",
       "      <td>캐나다 First Quantum Minerals사는 2017년 니켈 생산량이 대폭 ...</td>\n",
       "    </tr>\n",
       "    <tr>\n",
       "      <th>91</th>\n",
       "      <td>2018-01-29</td>\n",
       "      <td>LME 니켈 가격, ‘15년 5월 이후 최고로 상승</td>\n",
       "      <td>1월 25일 LME 니켈 현물 가격이 전날보다 5.35% 대폭 상승한 톤당 13,6...</td>\n",
       "    </tr>\n",
       "    <tr>\n",
       "      <th>92</th>\n",
       "      <td>2018-01-22</td>\n",
       "      <td>Jinchuan, 전기차 붐 대비 니켈 투자 확대</td>\n",
       "      <td>중국 최대 니켈 생산업체인 Jinchuan Group Co.사는 황산니켈 생산 규모...</td>\n",
       "    </tr>\n",
       "    <tr>\n",
       "      <th>93</th>\n",
       "      <td>2018-01-08</td>\n",
       "      <td>니켈 가격 하락 전망</td>\n",
       "      <td>BMI Research사는 니켈 가격이 향후 수개월 동안 하락할 것이라고 주장함. ...</td>\n",
       "    </tr>\n",
       "    <tr>\n",
       "      <th>94</th>\n",
       "      <td>2018-01-08</td>\n",
       "      <td>LME 니켈 가격, 12월에 5% 하락</td>\n",
       "      <td>LME 시장에서 2017년 12월 니켈 평균 가격이 현물 톤당 11,409.21불,...</td>\n",
       "    </tr>\n",
       "  </tbody>\n",
       "</table>\n",
       "<p>95 rows × 3 columns</p>\n",
       "</div>"
      ],
      "text/plain": [
       "          date                            title  \\\n",
       "0   2019-12-23          필리핀, 1~9월 니켈광 생산량 3% 감소   \n",
       "1   2019-11-20    Nornickel사, 2020년 이후 니켈 부족 전망   \n",
       "2   2019-11-15  CNIA, 중국 2019년 니켈 생산량 15% 증가 전망   \n",
       "3   2019-11-14           Talon사, 통합 니켈 광산 개발 계획   \n",
       "4   2019-02-21      PNG Ramu 니켈 광산, 광업권 연장 안개 속   \n",
       "..         ...                              ...   \n",
       "90  2018-01-31   First Quantum, 작년 니켈 생산 24% 감소   \n",
       "91  2018-01-29     LME 니켈 가격, ‘15년 5월 이후 최고로 상승   \n",
       "92  2018-01-22      Jinchuan, 전기차 붐 대비 니켈 투자 확대   \n",
       "93  2018-01-08                      니켈 가격 하락 전망   \n",
       "94  2018-01-08           LME 니켈 가격, 12월에 5% 하락    \n",
       "\n",
       "                                                 body  \n",
       "0   필리핀 광산지질국(Mines Geosciences Bureau)는 1~9월 니켈광 ...  \n",
       "1   세계 2위 니켈 생산업체 Nornickel사는 생산량 감소 및 수요 증가로 2020...  \n",
       "2   중국비철금속협회(China Nonferrous Metals Industry Asso...  \n",
       "3   Talon Metals사는 최근 미네소타주에 소재한 Tamarack 프로젝트에서\\n...  \n",
       "4   파푸아뉴기니 (PNG) 총리는 Madang주에 소재하는 Ramu 니켈 광산의 광업권...  \n",
       "..                                                ...  \n",
       "90  캐나다 First Quantum Minerals사는 2017년 니켈 생산량이 대폭 ...  \n",
       "91  1월 25일 LME 니켈 현물 가격이 전날보다 5.35% 대폭 상승한 톤당 13,6...  \n",
       "92  중국 최대 니켈 생산업체인 Jinchuan Group Co.사는 황산니켈 생산 규모...  \n",
       "93  BMI Research사는 니켈 가격이 향후 수개월 동안 하락할 것이라고 주장함. ...  \n",
       "94  LME 시장에서 2017년 12월 니켈 평균 가격이 현물 톤당 11,409.21불,...  \n",
       "\n",
       "[95 rows x 3 columns]"
      ]
     },
     "execution_count": 46,
     "metadata": {},
     "output_type": "execute_result"
    }
   ],
   "source": [
    "df"
   ]
  },
  {
   "cell_type": "code",
   "execution_count": 47,
   "metadata": {},
   "outputs": [],
   "source": [
    "df.to_excel('2018-2019_news.xlsx', index=False)"
   ]
  },
  {
   "cell_type": "markdown",
   "metadata": {},
   "source": [
    "## 2020-2023"
   ]
  },
  {
   "cell_type": "code",
   "execution_count": 48,
   "metadata": {},
   "outputs": [],
   "source": [
    "driver = webdriver.Chrome()\n",
    "driver.get(\"https://www.komis.or.kr/komis/trend/dailynews/resources/trendList.do?se_cd=130\")"
   ]
  },
  {
   "cell_type": "code",
   "execution_count": 49,
   "metadata": {},
   "outputs": [],
   "source": [
    "# 2020-2023년 기사 스크랩\n",
    "select_date('20200101','20231231')"
   ]
  },
  {
   "cell_type": "code",
   "execution_count": 50,
   "metadata": {},
   "outputs": [],
   "source": [
    "all_data = []\n",
    "# 첫 페이지 데이터 수집\n",
    "all_data.extend(get_data_from_page())\n",
    "\n",
    "# 다음장(11-20)\n",
    "click_next_set()\n",
    "time.sleep(2) \n",
    "\n",
    "# 페이지 이동 및 데이터 수집\n",
    "for page_number in range(11, 21):\n",
    "    if not next_page(page_number):\n",
    "        break\n",
    "\n",
    "    # 데이터 수집\n",
    "    all_data.extend(get_data_from_page())\n",
    "\n",
    "\n",
    "# 다음장(21-30)\n",
    "click_next_set2()\n",
    "time.sleep(2) \n",
    "\n",
    "# 페이지 이동 및 데이터 수집\n",
    "for page_number in range(21, 31):\n",
    "    if not next_page(page_number):\n",
    "        break\n",
    "\n",
    "    # 데이터 수집\n",
    "    all_data.extend(get_data_from_page())"
   ]
  },
  {
   "cell_type": "code",
   "execution_count": 51,
   "metadata": {},
   "outputs": [],
   "source": [
    "# 다음장(31-)\n",
    "click_next_set2()\n",
    "time.sleep(2) \n",
    "\n",
    "# 페이지 이동 및 데이터 수집\n",
    "for page_number in range(31, 37):\n",
    "    if not next_page(page_number):\n",
    "        break\n",
    "\n",
    "    # 데이터 수집\n",
    "    all_data.extend(get_data_from_page())"
   ]
  },
  {
   "cell_type": "code",
   "execution_count": 52,
   "metadata": {},
   "outputs": [],
   "source": [
    "# 드라이버 종료\n",
    "driver.quit()"
   ]
  },
  {
   "cell_type": "code",
   "execution_count": 53,
   "metadata": {},
   "outputs": [],
   "source": [
    "# 데이터프레임 생성\n",
    "df = pd.DataFrame(all_data)"
   ]
  },
  {
   "cell_type": "code",
   "execution_count": 54,
   "metadata": {},
   "outputs": [
    {
     "data": {
      "text/html": [
       "<div>\n",
       "<style scoped>\n",
       "    .dataframe tbody tr th:only-of-type {\n",
       "        vertical-align: middle;\n",
       "    }\n",
       "\n",
       "    .dataframe tbody tr th {\n",
       "        vertical-align: top;\n",
       "    }\n",
       "\n",
       "    .dataframe thead th {\n",
       "        text-align: right;\n",
       "    }\n",
       "</style>\n",
       "<table border=\"1\" class=\"dataframe\">\n",
       "  <thead>\n",
       "    <tr style=\"text-align: right;\">\n",
       "      <th></th>\n",
       "      <th>date</th>\n",
       "      <th>title</th>\n",
       "      <th>body</th>\n",
       "    </tr>\n",
       "  </thead>\n",
       "  <tbody>\n",
       "    <tr>\n",
       "      <th>0</th>\n",
       "      <td>2023-12-28</td>\n",
       "      <td>인도네시아 니켈 제련소 노조, 폭발사고 피해보상 및 노동환경 개선 시위</td>\n",
       "      <td>앞서 술라웨시 섬 소재 중국 Tshingshan Holding Group사 소유의 ...</td>\n",
       "    </tr>\n",
       "    <tr>\n",
       "      <th>1</th>\n",
       "      <td>2023-12-27</td>\n",
       "      <td>인도네시아, 니켈 제련소 화재로 18명 사망</td>\n",
       "      <td>인도네시아 술라웨시 섬 소재 니켈 제련소의 용광로에서 화재가 발생함에 따라 18명의...</td>\n",
       "    </tr>\n",
       "    <tr>\n",
       "      <th>2</th>\n",
       "      <td>2023-12-14</td>\n",
       "      <td>South32사, 도로 봉쇄시위로 콜롬비아 페로니켈 프로젝트 불가항력 선언</td>\n",
       "      <td>호주 광산업체 South32사는 지역민의 도로 봉쇄 시위에 따른 콜롬비아 Cerro...</td>\n",
       "    </tr>\n",
       "    <tr>\n",
       "      <th>3</th>\n",
       "      <td>2023-11-08</td>\n",
       "      <td>인도네시아, ’23년 생산쿼터 신청 84건 중 38건 승인</td>\n",
       "      <td>인도네시아 에너지광물자원부(Ministry of Energy and Mineral ...</td>\n",
       "    </tr>\n",
       "    <tr>\n",
       "      <th>4</th>\n",
       "      <td>2022-08-18</td>\n",
       "      <td>LME, 니켈 거래량 40% 급감</td>\n",
       "      <td>런던금속거래소(LME)의 ’22년 7월 니켈 펀드 거래량이 40% 이상 급감함.\\n...</td>\n",
       "    </tr>\n",
       "    <tr>\n",
       "      <th>...</th>\n",
       "      <td>...</td>\n",
       "      <td>...</td>\n",
       "      <td>...</td>\n",
       "    </tr>\n",
       "    <tr>\n",
       "      <th>102</th>\n",
       "      <td>2020-03-03</td>\n",
       "      <td>인도네시아 정부, 니켈 가격 규제 발표</td>\n",
       "      <td>인도네시아 에너지·광물자원부(Ministry of Mineral Resources)...</td>\n",
       "    </tr>\n",
       "    <tr>\n",
       "      <th>103</th>\n",
       "      <td>2020-02-27</td>\n",
       "      <td>인니, 코로나19로 110억불 규모 니켈 프로젝트 개발 지연</td>\n",
       "      <td>인도네시아 Luhut Pandjaitan 해양투자조정장관은 중국의 코로나19로 인해...</td>\n",
       "    </tr>\n",
       "    <tr>\n",
       "      <th>104</th>\n",
       "      <td>2020-02-24</td>\n",
       "      <td>Eramet사, 인니 Weda Bay 광산 니켈 목표 생산량 300만톤</td>\n",
       "      <td>프랑스 Eramet사는 올해 인도네시아 Weda Bay 광산의 니켈광 생산\\n목표량...</td>\n",
       "    </tr>\n",
       "    <tr>\n",
       "      <th>105</th>\n",
       "      <td>2020-01-10</td>\n",
       "      <td>인도네시아 정부, 배터리용 니켈 플랜트 환경 허가 승인</td>\n",
       "      <td>인도네시아 정부는 Morowali 소재 배터리용 니켈 플랜트의 환경영향평가를\\n승인...</td>\n",
       "    </tr>\n",
       "    <tr>\n",
       "      <th>106</th>\n",
       "      <td>2020-01-09</td>\n",
       "      <td>Atlantic Nickel사, 브라질 Santa Rita 광산 생산재개</td>\n",
       "      <td>브라질 Atlantic Nickel사는 Bahia주 북동부 소재 Santa Rita...</td>\n",
       "    </tr>\n",
       "  </tbody>\n",
       "</table>\n",
       "<p>107 rows × 3 columns</p>\n",
       "</div>"
      ],
      "text/plain": [
       "           date                                      title  \\\n",
       "0    2023-12-28    인도네시아 니켈 제련소 노조, 폭발사고 피해보상 및 노동환경 개선 시위   \n",
       "1    2023-12-27                   인도네시아, 니켈 제련소 화재로 18명 사망   \n",
       "2    2023-12-14  South32사, 도로 봉쇄시위로 콜롬비아 페로니켈 프로젝트 불가항력 선언   \n",
       "3    2023-11-08           인도네시아, ’23년 생산쿼터 신청 84건 중 38건 승인   \n",
       "4    2022-08-18                         LME, 니켈 거래량 40% 급감   \n",
       "..          ...                                        ...   \n",
       "102  2020-03-03                      인도네시아 정부, 니켈 가격 규제 발표   \n",
       "103  2020-02-27          인니, 코로나19로 110억불 규모 니켈 프로젝트 개발 지연   \n",
       "104  2020-02-24    Eramet사, 인니 Weda Bay 광산 니켈 목표 생산량 300만톤   \n",
       "105  2020-01-10             인도네시아 정부, 배터리용 니켈 플랜트 환경 허가 승인   \n",
       "106  2020-01-09   Atlantic Nickel사, 브라질 Santa Rita 광산 생산재개   \n",
       "\n",
       "                                                  body  \n",
       "0    앞서 술라웨시 섬 소재 중국 Tshingshan Holding Group사 소유의 ...  \n",
       "1    인도네시아 술라웨시 섬 소재 니켈 제련소의 용광로에서 화재가 발생함에 따라 18명의...  \n",
       "2    호주 광산업체 South32사는 지역민의 도로 봉쇄 시위에 따른 콜롬비아 Cerro...  \n",
       "3    인도네시아 에너지광물자원부(Ministry of Energy and Mineral ...  \n",
       "4    런던금속거래소(LME)의 ’22년 7월 니켈 펀드 거래량이 40% 이상 급감함.\\n...  \n",
       "..                                                 ...  \n",
       "102  인도네시아 에너지·광물자원부(Ministry of Mineral Resources)...  \n",
       "103  인도네시아 Luhut Pandjaitan 해양투자조정장관은 중국의 코로나19로 인해...  \n",
       "104  프랑스 Eramet사는 올해 인도네시아 Weda Bay 광산의 니켈광 생산\\n목표량...  \n",
       "105  인도네시아 정부는 Morowali 소재 배터리용 니켈 플랜트의 환경영향평가를\\n승인...  \n",
       "106  브라질 Atlantic Nickel사는 Bahia주 북동부 소재 Santa Rita...  \n",
       "\n",
       "[107 rows x 3 columns]"
      ]
     },
     "execution_count": 54,
     "metadata": {},
     "output_type": "execute_result"
    }
   ],
   "source": [
    "df"
   ]
  },
  {
   "cell_type": "code",
   "execution_count": 59,
   "metadata": {},
   "outputs": [],
   "source": [
    "df.to_excel('2020-2023_news.xlsx', index=False)"
   ]
  },
  {
   "cell_type": "markdown",
   "metadata": {},
   "source": [
    "## 2024"
   ]
  },
  {
   "cell_type": "code",
   "execution_count": 60,
   "metadata": {},
   "outputs": [],
   "source": [
    "driver = webdriver.Chrome()\n",
    "driver.get(\"https://www.komis.or.kr/komis/trend/dailynews/resources/trendList.do?se_cd=130\")\n",
    "\n",
    "time.sleep(2)\n",
    "\n",
    "# 2024년 기사 스크랩\n",
    "select_date('20240101','20240625')"
   ]
  },
  {
   "cell_type": "code",
   "execution_count": 62,
   "metadata": {},
   "outputs": [
    {
     "data": {
      "text/plain": [
       "6"
      ]
     },
     "execution_count": 62,
     "metadata": {},
     "output_type": "execute_result"
    }
   ],
   "source": [
    "# 총 페이지 수\n",
    "total_pages = get_total_pages()\n",
    "total_pages"
   ]
  },
  {
   "cell_type": "code",
   "execution_count": 63,
   "metadata": {},
   "outputs": [],
   "source": [
    "# 페이지 이동 및 데이터 수집\n",
    "for page_number in range(2, total_pages + 1):\n",
    "    if not next_page(page_number):\n",
    "        break\n",
    "\n",
    "    # 데이터 수집\n",
    "    all_data.extend(get_data_from_page())"
   ]
  },
  {
   "cell_type": "code",
   "execution_count": null,
   "metadata": {},
   "outputs": [],
   "source": [
    "# 드라이버 종료\n",
    "driver.quit()"
   ]
  },
  {
   "cell_type": "code",
   "execution_count": 64,
   "metadata": {},
   "outputs": [],
   "source": [
    "# 데이터프레임 생성\n",
    "df = pd.DataFrame(all_data)"
   ]
  },
  {
   "cell_type": "code",
   "execution_count": 65,
   "metadata": {},
   "outputs": [
    {
     "data": {
      "text/html": [
       "<div>\n",
       "<style scoped>\n",
       "    .dataframe tbody tr th:only-of-type {\n",
       "        vertical-align: middle;\n",
       "    }\n",
       "\n",
       "    .dataframe tbody tr th {\n",
       "        vertical-align: top;\n",
       "    }\n",
       "\n",
       "    .dataframe thead th {\n",
       "        text-align: right;\n",
       "    }\n",
       "</style>\n",
       "<table border=\"1\" class=\"dataframe\">\n",
       "  <thead>\n",
       "    <tr style=\"text-align: right;\">\n",
       "      <th></th>\n",
       "      <th>date</th>\n",
       "      <th>title</th>\n",
       "      <th>body</th>\n",
       "    </tr>\n",
       "  </thead>\n",
       "  <tbody>\n",
       "    <tr>\n",
       "      <th>0</th>\n",
       "      <td>2023-12-28</td>\n",
       "      <td>인도네시아 니켈 제련소 노조, 폭발사고 피해보상 및 노동환경 개선 시위</td>\n",
       "      <td>앞서 술라웨시 섬 소재 중국 Tshingshan Holding Group사 소유의 ...</td>\n",
       "    </tr>\n",
       "    <tr>\n",
       "      <th>1</th>\n",
       "      <td>2023-12-27</td>\n",
       "      <td>인도네시아, 니켈 제련소 화재로 18명 사망</td>\n",
       "      <td>인도네시아 술라웨시 섬 소재 니켈 제련소의 용광로에서 화재가 발생함에 따라 18명의...</td>\n",
       "    </tr>\n",
       "    <tr>\n",
       "      <th>2</th>\n",
       "      <td>2023-12-14</td>\n",
       "      <td>South32사, 도로 봉쇄시위로 콜롬비아 페로니켈 프로젝트 불가항력 선언</td>\n",
       "      <td>호주 광산업체 South32사는 지역민의 도로 봉쇄 시위에 따른 콜롬비아 Cerro...</td>\n",
       "    </tr>\n",
       "    <tr>\n",
       "      <th>3</th>\n",
       "      <td>2023-11-08</td>\n",
       "      <td>인도네시아, ’23년 생산쿼터 신청 84건 중 38건 승인</td>\n",
       "      <td>인도네시아 에너지광물자원부(Ministry of Energy and Mineral ...</td>\n",
       "    </tr>\n",
       "    <tr>\n",
       "      <th>4</th>\n",
       "      <td>2022-08-18</td>\n",
       "      <td>LME, 니켈 거래량 40% 급감</td>\n",
       "      <td>런던금속거래소(LME)의 ’22년 7월 니켈 펀드 거래량이 40% 이상 급감함.\\n...</td>\n",
       "    </tr>\n",
       "    <tr>\n",
       "      <th>...</th>\n",
       "      <td>...</td>\n",
       "      <td>...</td>\n",
       "      <td>...</td>\n",
       "    </tr>\n",
       "    <tr>\n",
       "      <th>121</th>\n",
       "      <td>2024-02-07</td>\n",
       "      <td>니켈, 인도네시아 증산 지속으로 가격 급락</td>\n",
       "      <td>니켈은 인도네시아의 증산에 따른 공급과잉으로 런던금속거래소(LME)의 니켈 가격이 ...</td>\n",
       "    </tr>\n",
       "    <tr>\n",
       "      <th>122</th>\n",
       "      <td>2024-02-01</td>\n",
       "      <td>IGO사, 서호주 Cosmos 니켈 프로젝트 조업중단</td>\n",
       "      <td>호주 광산업체 IGO Ltd사는 서호주 Cosmos 니켈 프로젝트를 유지보수 상태로...</td>\n",
       "    </tr>\n",
       "    <tr>\n",
       "      <th>123</th>\n",
       "      <td>2024-01-24</td>\n",
       "      <td>니켈, 연이은 조업중단 불구 가격 하락세 지속</td>\n",
       "      <td>1월 22일 런던금속거래소(LME)의 니켈 가격은 니켈 광산들의 연이은 조업중단에도...</td>\n",
       "    </tr>\n",
       "    <tr>\n",
       "      <th>124</th>\n",
       "      <td>2024-01-17</td>\n",
       "      <td>First Quantum사, 서호주 Ravensthorpe 니켈 광산 조업 중단</td>\n",
       "      <td>캐나다 광산업체 First Quantum Minerals사는 니켈 가격 약세 속 서...</td>\n",
       "    </tr>\n",
       "    <tr>\n",
       "      <th>125</th>\n",
       "      <td>2024-01-15</td>\n",
       "      <td>BMI : ’24년 니켈 가격 전망 하향조정</td>\n",
       "      <td>금속시장 조사기관 BMI는 니켈 공급과잉 속 중국의 수요 부진으로 ’24년 니켈 가...</td>\n",
       "    </tr>\n",
       "  </tbody>\n",
       "</table>\n",
       "<p>126 rows × 3 columns</p>\n",
       "</div>"
      ],
      "text/plain": [
       "           date                                         title  \\\n",
       "0    2023-12-28       인도네시아 니켈 제련소 노조, 폭발사고 피해보상 및 노동환경 개선 시위   \n",
       "1    2023-12-27                      인도네시아, 니켈 제련소 화재로 18명 사망   \n",
       "2    2023-12-14     South32사, 도로 봉쇄시위로 콜롬비아 페로니켈 프로젝트 불가항력 선언   \n",
       "3    2023-11-08              인도네시아, ’23년 생산쿼터 신청 84건 중 38건 승인   \n",
       "4    2022-08-18                            LME, 니켈 거래량 40% 급감   \n",
       "..          ...                                           ...   \n",
       "121  2024-02-07                       니켈, 인도네시아 증산 지속으로 가격 급락   \n",
       "122  2024-02-01                IGO사, 서호주 Cosmos 니켈 프로젝트 조업중단    \n",
       "123  2024-01-24                     니켈, 연이은 조업중단 불구 가격 하락세 지속   \n",
       "124  2024-01-17  First Quantum사, 서호주 Ravensthorpe 니켈 광산 조업 중단   \n",
       "125  2024-01-15                      BMI : ’24년 니켈 가격 전망 하향조정   \n",
       "\n",
       "                                                  body  \n",
       "0    앞서 술라웨시 섬 소재 중국 Tshingshan Holding Group사 소유의 ...  \n",
       "1    인도네시아 술라웨시 섬 소재 니켈 제련소의 용광로에서 화재가 발생함에 따라 18명의...  \n",
       "2    호주 광산업체 South32사는 지역민의 도로 봉쇄 시위에 따른 콜롬비아 Cerro...  \n",
       "3    인도네시아 에너지광물자원부(Ministry of Energy and Mineral ...  \n",
       "4    런던금속거래소(LME)의 ’22년 7월 니켈 펀드 거래량이 40% 이상 급감함.\\n...  \n",
       "..                                                 ...  \n",
       "121  니켈은 인도네시아의 증산에 따른 공급과잉으로 런던금속거래소(LME)의 니켈 가격이 ...  \n",
       "122  호주 광산업체 IGO Ltd사는 서호주 Cosmos 니켈 프로젝트를 유지보수 상태로...  \n",
       "123  1월 22일 런던금속거래소(LME)의 니켈 가격은 니켈 광산들의 연이은 조업중단에도...  \n",
       "124  캐나다 광산업체 First Quantum Minerals사는 니켈 가격 약세 속 서...  \n",
       "125  금속시장 조사기관 BMI는 니켈 공급과잉 속 중국의 수요 부진으로 ’24년 니켈 가...  \n",
       "\n",
       "[126 rows x 3 columns]"
      ]
     },
     "execution_count": 65,
     "metadata": {},
     "output_type": "execute_result"
    }
   ],
   "source": [
    "df"
   ]
  },
  {
   "cell_type": "code",
   "execution_count": null,
   "metadata": {},
   "outputs": [],
   "source": []
  }
 ],
 "metadata": {
  "kernelspec": {
   "display_name": "nltk_setting",
   "language": "python",
   "name": "python3"
  },
  "language_info": {
   "codemirror_mode": {
    "name": "ipython",
    "version": 3
   },
   "file_extension": ".py",
   "mimetype": "text/x-python",
   "name": "python",
   "nbconvert_exporter": "python",
   "pygments_lexer": "ipython3",
   "version": "3.8.19"
  }
 },
 "nbformat": 4,
 "nbformat_minor": 2
}
